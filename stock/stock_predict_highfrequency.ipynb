{
 "cells": [
  {
   "cell_type": "code",
   "execution_count": 13,
   "metadata": {
    "collapsed": true
   },
   "outputs": [],
   "source": [
    "data = open('2005_2013.txt').readlines()"
   ]
  },
  {
   "cell_type": "code",
   "execution_count": 14,
   "metadata": {
    "collapsed": false
   },
   "outputs": [
    {
     "name": "stdout",
     "output_type": "stream",
     "text": [
      "1104718500.0 1104719400.0 1.356 1.356\n"
     ]
    }
   ],
   "source": [
    "from datetime import datetime\n",
    "x, y = [], []\n",
    "for one_data in data:\n",
    "    current_data = one_data.strip().split(' ')\n",
    "    date = current_data[0].split('.')\n",
    "    date = [int(item) for item in date]\n",
    "    assert(len(date)==3)\n",
    "    time = current_data[1].split(':')\n",
    "    time = [int(item) for item in time]\n",
    "    assert(len(time)==2)\n",
    "    value = float(current_data[2])\n",
    "    x.append(float(datetime(date[0], date[1], date[2], time[0], time[1]).strftime(\"%s\")))\n",
    "    y.append(value)\n",
    "print x[0], x[1], y[0],y[1]"
   ]
  },
  {
   "cell_type": "code",
   "execution_count": 15,
   "metadata": {
    "collapsed": false
   },
   "outputs": [
    {
     "data": {
      "text/plain": [
       "[<matplotlib.lines.Line2D at 0x7f940fbded10>]"
      ]
     },
     "execution_count": 15,
     "metadata": {},
     "output_type": "execute_result"
    },
    {
     "data": {
      "image/png": "[encoded data removed]",
      "text/plain": [
       "<matplotlib.figure.Figure at 0x7f939f18f110>"
      ]
     },
     "metadata": {},
     "output_type": "display_data"
    }
   ],
   "source": [
    "import matplotlib\n",
    "import matplotlib.pyplot as plt\n",
    "%matplotlib inline \n",
    "plt.plot(y)"
   ]
  },
  {
   "cell_type": "code",
   "execution_count": 16,
   "metadata": {
    "collapsed": true
   },
   "outputs": [],
   "source": [
    "from numpy import newaxis\n",
    "import numpy as np\n",
    "def train_test_split(data, n_prev):\n",
    "    docX, docY = [], []\n",
    "    for i in range(len(data)-n_prev):\n",
    "        docX.append(data[i:i+n_prev])\n",
    "        docY.append(data[i+n_prev])\n",
    "    alsX = np.array(docX)[..., newaxis]\n",
    "    alsY = np.array(docY)[..., newaxis]\n",
    "\n",
    "    test_size = 0.1\n",
    "    ntrn = int(round(len(alsY) * (1 - test_size)))\n",
    "    X_train = alsX[0:ntrn]\n",
    "    X_test = alsX[ntrn:]\n",
    "    y_train = alsY[0:ntrn]\n",
    "    y_test = alsY[ntrn:]\n",
    "    \n",
    "    return (X_train, y_train), (X_test, y_test)"
   ]
  },
  {
   "cell_type": "code",
   "execution_count": 88,
   "metadata": {
    "collapsed": false
   },
   "outputs": [
    {
     "name": "stdout",
     "output_type": "stream",
     "text": [
      "(207302, 5, 1)\n",
      "(207302, 1)\n",
      "(23034, 5, 1)\n",
      "(23034, 1)\n"
     ]
    }
   ],
   "source": [
    "n_prev = 5\n",
    "(X_train, y_train), (X_test, y_test) = train_test_split(y, n_prev)\n",
    "print X_train.shape\n",
    "print y_train.shape\n",
    "print X_test.shape\n",
    "print y_test.shape"
   ]
  },
  {
   "cell_type": "code",
   "execution_count": 89,
   "metadata": {
    "collapsed": false
   },
   "outputs": [
    {
     "name": "stdout",
     "output_type": "stream",
     "text": [
      "[ 0.0006593]\n",
      "(23034, 1)\n"
     ]
    }
   ],
   "source": [
    "y_test_baseline0 = np.concatenate((y_train[-1:], y_test[:-1]))\n",
    "rmse = np.sqrt(((y_test_baseline0 - y_test) ** 2).mean(axis=0))\n",
    "print rmse\n",
    "print y_test_baseline0.shape"
   ]
  },
  {
   "cell_type": "code",
   "execution_count": 90,
   "metadata": {
    "collapsed": false
   },
   "outputs": [],
   "source": [
    "from keras.models import Sequential\n",
    "from keras.layers import Dense, Dropout, Activation\n",
    "from keras.layers import LSTM"
   ]
  },
  {
   "cell_type": "code",
   "execution_count": 91,
   "metadata": {
    "collapsed": true
   },
   "outputs": [],
   "source": [
    "in_out_neurons = 1\n",
    "hidden_neurons = 2\n",
    "\n",
    "model = Sequential()\n",
    "#model.add(LSTM(in_out_neurons, hidden_neurons, activation='sigmoid', inner_activation='hard_sigmoid'))\n",
    "#model.add(Dropout(0.5))\n",
    "model.add(LSTM(input_dim=in_out_neurons, output_dim=hidden_neurons))\n",
    "model.add(Dense(input_dim=hidden_neurons, output_dim=in_out_neurons))\n",
    "model.add(Activation('linear'))\n",
    "model.compile(loss='mean_squared_error', optimizer='adam')"
   ]
  },
  {
   "cell_type": "code",
   "execution_count": 109,
   "metadata": {
    "collapsed": false
   },
   "outputs": [
    {
     "name": "stdout",
     "output_type": "stream",
     "text": [
      "Train on 207302 samples, validate on 23034 samples\n",
      "Epoch 1/5\n",
      "207302/207302 [==============================] - 2s - loss: 1.1452e-06 - val_loss: 7.3391e-07\n",
      "Epoch 2/5\n",
      "207302/207302 [==============================] - 2s - loss: 1.1463e-06 - val_loss: 5.9318e-07\n",
      "Epoch 3/5\n",
      "207302/207302 [==============================] - 2s - loss: 1.1510e-06 - val_loss: 6.0604e-07\n",
      "Epoch 4/5\n",
      "207302/207302 [==============================] - 2s - loss: 1.1663e-06 - val_loss: 6.1526e-07\n",
      "Epoch 5/5\n",
      "207302/207302 [==============================] - 2s - loss: 1.1601e-06 - val_loss: 5.6495e-07\n"
     ]
    },
    {
     "data": {
      "text/plain": [
       "<keras.callbacks.History at 0x7f9381646c90>"
      ]
     },
     "execution_count": 109,
     "metadata": {},
     "output_type": "execute_result"
    }
   ],
   "source": [
    "model.fit(X_train, y_train, batch_size=1000, nb_epoch=5, validation_data=(X_test, y_test), shuffle=True)"
   ]
  },
  {
   "cell_type": "code",
   "execution_count": 107,
   "metadata": {
    "collapsed": false
   },
   "outputs": [
    {
     "name": "stdout",
     "output_type": "stream",
     "text": [
      "[ 0.00105461]\n",
      "(207302, 1)\n",
      "[ 0.00076492]\n",
      "(23034, 1)\n"
     ]
    }
   ],
   "source": [
    "compute_train = model.predict(X_train)\n",
    "rmse_train = np.sqrt(((compute_train - y_train) ** 2).mean(axis=0))\n",
    "print rmse_train\n",
    "print compute_train.shape\n",
    "\n",
    "predicted = model.predict(X_test)\n",
    "rmse = np.sqrt(((predicted - y_test) ** 2).mean(axis=0))\n",
    "print rmse\n",
    "print predicted.shape"
   ]
  },
  {
   "cell_type": "code",
   "execution_count": 75,
   "metadata": {
    "collapsed": false
   },
   "outputs": [
    {
     "data": {
      "text/plain": [
       "[<matplotlib.lines.Line2D at 0x7f9351bf5f50>,\n",
       " <matplotlib.lines.Line2D at 0x7f9351c14090>]"
      ]
     },
     "execution_count": 75,
     "metadata": {},
     "output_type": "execute_result"
    },
    {
     "data": {
      "image/png": "[encoded data removed]",
      "text/plain": [
       "<matplotlib.figure.Figure at 0x7f9351c930d0>"
      ]
     },
     "metadata": {},
     "output_type": "display_data"
    }
   ],
   "source": [
    "b = np.array(y[0:n_prev])[...,newaxis]\n",
    "c = np.concatenate((b, compute_train, predicted))\n",
    "plt.plot(y, 'b-', c, 'r--')"
   ]
  },
  {
   "cell_type": "code",
   "execution_count": null,
   "metadata": {
    "collapsed": true
   },
   "outputs": [],
   "source": []
  }
 ],
 "metadata": {
  "kernelspec": {
   "display_name": "Python 2",
   "language": "python",
   "name": "python2"
  },
  "language_info": {
   "codemirror_mode": {
    "name": "ipython",
    "version": 2
   },
   "file_extension": ".py",
   "mimetype": "text/x-python",
   "name": "python",
   "nbconvert_exporter": "python",
   "pygments_lexer": "ipython2",
   "version": "2.7.6"
  }
 },
 "nbformat": 4,
 "nbformat_minor": 0
}
